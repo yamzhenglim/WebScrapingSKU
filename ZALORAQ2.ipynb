{
 "cells": [
  {
   "cell_type": "markdown",
   "id": "4d119a9e-d81c-4561-b5b1-b5440b00e1f9",
   "metadata": {},
   "source": [
    "# INPUT (Need to change before user run the script)"
   ]
  },
  {
   "cell_type": "code",
   "execution_count": 7,
   "id": "c1ba7a48-9b7e-46a6-a7eb-64abbe5864d6",
   "metadata": {},
   "outputs": [],
   "source": [
    "import pandas as pd\n",
    "SKU_LIST = pd.read_excel('C:/Users/yamzh/Downloads/Question_1_dataset_Automation_Specialist.xlsx')\n",
    "IMAGE_VIDEO_SAVE_PATH = 'C:/Users/yamzh/Downloads/ZALORA/'"
   ]
  },
  {
   "cell_type": "markdown",
   "id": "94e9ddbb-f060-408d-b4c5-8a26f8a5d886",
   "metadata": {},
   "source": [
    "# Library Import"
   ]
  },
  {
   "cell_type": "code",
   "execution_count": 1,
   "id": "6fec94f9-9c1e-4e71-9193-93dc09dda2d8",
   "metadata": {},
   "outputs": [
    {
     "name": "stdout",
     "output_type": "stream",
     "text": [
      "Requirement already satisfied: pytube in c:\\users\\yamzh\\anaconda3\\lib\\site-packages (12.1.0)\n"
     ]
    }
   ],
   "source": [
    "!pip install pytube"
   ]
  },
  {
   "cell_type": "code",
   "execution_count": 2,
   "id": "7f690a62-8c10-4b2b-9230-36638f40dbd3",
   "metadata": {},
   "outputs": [],
   "source": [
    "import requests\n",
    "from bs4 import BeautifulSoup as bs\n",
    "import urllib.request\n",
    "import os\n",
    "from IPython.display import clear_output\n",
    "from pytube import YouTube"
   ]
  },
  {
   "cell_type": "markdown",
   "id": "d76e34ad-bc73-45be-afd1-e04bf7b80dea",
   "metadata": {},
   "source": [
    "# Function"
   ]
  },
  {
   "cell_type": "code",
   "execution_count": 3,
   "id": "f8e00862-1578-4373-8b75-97c8d0b0ae64",
   "metadata": {},
   "outputs": [],
   "source": [
    "\n",
    "def get_product_html(DOMAIN_NAME,extension_link):\n",
    "    # Get the PRODUCT_PAGE_HTML using SKU\n",
    "    # *PRODUCT_PAGE_HTML is the page where we buy the product, eg. https://www.zalora.com.my/puma-asymmetric-women-s-top-black-2700404.html\n",
    "    # *SEARCH_PAGE_HTML is the page where we search the product eg. https://www.zalora.com.my/catalog/?q=14C87AA11E1D1FGS\n",
    "    search_page_html = scrape_link_html(DOMAIN_NAME,extension_link)\n",
    "    product_extension_link = search_product_link(search_page_html)\n",
    "    product_page_html = scrape_link_html(DOMAIN_NAME,product_extension_link)\n",
    "    return product_page_html\n",
    "\n",
    "    \n",
    "def scrape_link_html(DOMAIN_NAME,extension_link):\n",
    "    # Function for scrape the webpage in the HTML format\n",
    "    HEADERS={'User-Agent': 'Mozilla/5.0'}\n",
    "    response = requests.get(str(DOMAIN_NAME+extension_link), headers=HEADERS) \n",
    "    search_page_html = bs(response.text)\n",
    "    return search_page_html\n",
    "\n",
    "\n",
    "def search_product_link(bs_html):\n",
    "    #Once we get the *SEARCH_PAGE_HTML using SKU, we will search the *PRODUCT_PAGE_LINK using this function\n",
    "    find_product_link = str(bs_html.find_all('script',{ 'type' : 'text/javascript' }))\n",
    "    product_link = find_product_link[find_product_link.index('\"link\"'):].split(\",\")[0][8:-1]\n",
    "    return str(product_link)\n",
    "\n",
    "\n",
    "\n",
    "def get_product_image_webpage_list(product_html):\n",
    "    #Get the IMAGE_LIST using PRODUCT_PAGE_HTML\n",
    "    return product_html.find_all('meta',{'property':\"og:image\"})\n",
    "\n",
    "\n",
    "def search_product_youtube_link(product_html):\n",
    "    #Get the YoutubeLink using PRODUCT_PAGE_HTML\n",
    "    video_html = product_html.find_all('div',{'id':\"videoContainer\"})\n",
    "    if video_html == []:\n",
    "        return\n",
    "    youtube_id = bs(str(video_html), 'html.parser').div.find(\"input\")[\"value\"]\n",
    "    if youtube_id == '-':\n",
    "        return\n",
    "    return str(\"https://www.youtube.com/watch?v=\" + youtube_id)                                         \n",
    "                                         \n",
    "    \n",
    "def save_image_list_to_path(IMAGE_SAVE_PATH,sku_id,product_image_list):\n",
    "    #Downalod the image to the path we want\n",
    "    path = str(IMAGE_SAVE_PATH + sku_id)\n",
    "    if not os.path.exists(path):\n",
    "        os.makedirs(path)\n",
    "    for index in range(0,len(product_image_list)):\n",
    "        file_name_and_location = os.path.join(path, str(sku_id)+\"_\"+str(index)+\".jpg\")\n",
    "        urllib.request.urlretrieve(product_image_list[index]['content'], file_name_and_location)\n",
    "        \n",
    "        \n",
    "def download_youtube_to_path(IMAGE_VIDEO_SAVE_PATH,sku_id,product_youtube_link):\n",
    "    #Downalod the video to the path we want\n",
    "    if product_youtube_link == None:\n",
    "        return\n",
    "    yt = YouTube(product_youtube_link)\n",
    "    yt = yt.streams.filter(progressive=True, file_extension='mp4').order_by('resolution').desc().first()\n",
    "    path = str(IMAGE_VIDEO_SAVE_PATH + sku_id)\n",
    "    if not os.path.exists(path):\n",
    "        os.makedirs(path)\n",
    "    yt.download(path)"
   ]
  },
  {
   "cell_type": "markdown",
   "id": "8f982af1-1aff-4824-ae50-10f0bbea9a09",
   "metadata": {},
   "source": [
    "# Program Run"
   ]
  },
  {
   "cell_type": "code",
   "execution_count": 6,
   "id": "d8527878-8f7a-4163-8fc0-3e4a31ab1739",
   "metadata": {
    "tags": []
   },
   "outputs": [
    {
     "name": "stdout",
     "output_type": "stream",
     "text": [
      "380/380\n",
      "9AFFEAA38B57A7GS\n"
     ]
    }
   ],
   "source": [
    "#FIX VARIABLE\n",
    "DOMAIN_NAME = 'https://www.zalora.com.my/'\n",
    "SKU_LIST[\"error_code\"] = None\n",
    "SKU_LIST[\"completed\"] = 0\n",
    "\n",
    "for index, sku_id in enumerate(SKU_LIST.Sku):\n",
    "    try:\n",
    "        \"\"\"LOADING SCREEN\"\"\"\n",
    "        clear_output(wait=True)\n",
    "        print(str(index+1) + \"/\" + str(len(SKU_LIST)))\n",
    "        print(sku_id)\n",
    "\n",
    "        \"\"\"WEB SCRAPE BACKEND PROCESS\"\"\"\n",
    "        sku_extension_link = 'catalog/?q=' + sku_id\n",
    "        product_html = get_product_html(DOMAIN_NAME, sku_extension_link)                    #Get the Specific Product Page using the SKU id\n",
    "                                                                                            #Assume that SKU and PRODUCT is 1:1 relationship\n",
    "            \n",
    "            \n",
    "\n",
    "        product_image_list = get_product_image_webpage_list(product_html)                   #Get the Image List in the PRODUCT Page \n",
    "        product_youtube_link = search_product_youtube_link(product_html)                    #Get the YouTube Link in the PRODUCT Page\n",
    "        \n",
    "    \n",
    "\n",
    "        save_image_list_to_path(IMAGE_VIDEO_SAVE_PATH,sku_id,product_image_list)            #Download all the image in Image List\n",
    "        download_youtube_to_path(IMAGE_VIDEO_SAVE_PATH,sku_id,product_youtube_link)         #Download the video in Youtube link\n",
    "\n",
    "        SKU_LIST.at[index, 'completed'] = 1                                                 #Mark \"completed\" in SKU_LIST\n",
    "\n",
    "\n",
    "\n",
    "    except Exception as e:\n",
    "        SKU_LIST.at[index, 'error_code'] = e                                               #Mark error if occur\n",
    "        \n",
    "    finally:\n",
    "        SKU_LIST.to_csv(\"C:/Users/yamzh/Downloads/ZALORA/output.csv\")\n",
    "\n",
    "    "
   ]
  },
  {
   "cell_type": "code",
   "execution_count": null,
   "id": "6619f473-dc00-4862-a7cd-8721119188b9",
   "metadata": {},
   "outputs": [],
   "source": []
  },
  {
   "cell_type": "code",
   "execution_count": null,
   "id": "1d937d98-0bad-4826-af26-fe7ab26605e4",
   "metadata": {},
   "outputs": [],
   "source": []
  },
  {
   "cell_type": "code",
   "execution_count": null,
   "id": "e8012e2b-eace-427a-9dab-6def14cbafc7",
   "metadata": {},
   "outputs": [],
   "source": []
  },
  {
   "cell_type": "code",
   "execution_count": null,
   "id": "33840962-20b4-4dd1-8c54-24f8f53bfbb0",
   "metadata": {},
   "outputs": [],
   "source": []
  },
  {
   "cell_type": "code",
   "execution_count": null,
   "id": "fde42eb9-6d08-4417-807f-d101f63e9930",
   "metadata": {},
   "outputs": [],
   "source": []
  }
 ],
 "metadata": {
  "kernelspec": {
   "display_name": "Python 3 (ipykernel)",
   "language": "python",
   "name": "python3"
  },
  "language_info": {
   "codemirror_mode": {
    "name": "ipython",
    "version": 3
   },
   "file_extension": ".py",
   "mimetype": "text/x-python",
   "name": "python",
   "nbconvert_exporter": "python",
   "pygments_lexer": "ipython3",
   "version": "3.9.12"
  }
 },
 "nbformat": 4,
 "nbformat_minor": 5
}
